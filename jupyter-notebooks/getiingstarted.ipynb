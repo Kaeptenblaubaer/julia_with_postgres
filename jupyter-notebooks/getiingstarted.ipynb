{
 "cells": [
  {
   "cell_type": "markdown",
   "metadata": {},
   "source": [
    "\n",
    "# content\n",
    "1. connecting to POSTGRES\n",
    "2. creating the db schema\n",
    "3. testing bitemporal crud\n"
   ]
  },
  {
   "cell_type": "markdown",
   "metadata": {},
   "source": [
    "## 1. connecting to POSTGRES"
   ]
  },
  {
   "cell_type": "code",
   "execution_count": null,
   "metadata": {},
   "outputs": [],
   "source": [
    "using Pkg\n",
    "Pkg.add(url=\"https://github.com/Kaeptenblaubaer/SearchLightPostgreSQL.jl\")\n",
    "ENV[\"GENIE_ENV\"] = \"dev\"\n",
    "using SearchLight\n",
    "using SearchLightPostgreSQL\n",
    "SearchLight.Configuration.load() |> SearchLight.connect\n"
   ]
  },
  {
   "cell_type": "markdown",
   "metadata": {},
   "source": [
    "## creating the migration table"
   ]
  },
  {
   "cell_type": "code",
   "execution_count": null,
   "metadata": {},
   "outputs": [],
   "source": [
    "SearchLight.Migrations.create_migrations_table()"
   ]
  },
  {
   "cell_type": "code",
   "execution_count": null,
   "metadata": {},
   "outputs": [],
   "source": [
    "Pkg.add(\"TimeZones\")\n",
    "using TimeZones\n",
    "SearchLight.Migrations.up()"
   ]
  },
  {
   "cell_type": "markdown",
   "metadata": {},
   "source": [
    "## 4. Testing"
   ]
  },
  {
   "cell_type": "code",
   "execution_count": 28,
   "metadata": {},
   "outputs": [
    {
     "name": "stderr",
     "output_type": "stream",
     "text": [
      "┌ Info: INSERT INTO histories ( \"dummy\" ) VALUES ( 0 ) RETURNING id\n",
      "└ @ SearchLightPostgreSQL /home/gitpod/.julia/packages/SearchLightPostgreSQL/pumJS/src/SearchLightPostgreSQL.jl:133\n",
      "┌ Info: SELECT \"histories\".\"id\" AS \"histories_id\", \"histories\".\"dummy\" AS \"histories_dummy\" FROM \"histories\" WHERE \"id\" = 1 ORDER BY histories.id ASC\n",
      "└ @ SearchLightPostgreSQL /home/gitpod/.julia/packages/SearchLightPostgreSQL/pumJS/src/SearchLightPostgreSQL.jl:133\n"
     ]
    },
    {
     "name": "stderr",
     "output_type": "stream",
     "text": [
      "┌ Info: INSERT INTO versions ( \"ref_history\" ) VALUES ( E'1' ) RETURNING id\n",
      "└ @ SearchLightPostgreSQL /home/gitpod/.julia/packages/SearchLightPostgreSQL/pumJS/src/SearchLightPostgreSQL.jl:133\n",
      "┌ Info: SELECT \"versions\".\"id\" AS \"versions_id\", \"versions\".\"ref_history\" AS \"versions_ref_history\" FROM \"versions\" WHERE \"id\" = 1 ORDER BY versions.id ASC\n",
      "└ @ SearchLightPostgreSQL /home/gitpod/.julia/packages/SearchLightPostgreSQL/pumJS/src/SearchLightPostgreSQL.jl:133\n"
     ]
    },
    {
     "name": "stderr",
     "output_type": "stream",
     "text": [
      "┌ Info: INSERT INTO validityintervals ( \"ref_history\", \"ref_version\", \"tsworld_validfrom\", \"tsworld_invalidfrom\", \"tsdb_validfrom\", \"tsdb_invalidfrom\", \"is_committed\" ) VALUES ( E'1', E'1', E'2014-05-30T21:00:00+01:00', E'2038-01-19T14:07:00+00:00', E'2022-01-30T18:28:24.061+01:00', E'2038-01-19T14:07:00+00:00', 0 ) RETURNING id\n",
      "└ @ SearchLightPostgreSQL /home/gitpod/.julia/packages/SearchLightPostgreSQL/pumJS/src/SearchLightPostgreSQL.jl:133\n",
      "NOTICE:  NEW: (1,1,1,\"2014-05-30 20:00:00+00\",\"2038-01-19 14:07:00+00\",\"2022-01-30 17:28:24.061+00\",\"2038-01-19 14:07:00+00\",,,0)\n",
      "┌ Info: SELECT \"validityintervals\".\"id\" AS \"validityintervals_id\", \"validityintervals\".\"ref_history\" AS \"validityintervals_ref_history\", \"validityintervals\".\"ref_version\" AS \"validityintervals_ref_version\", \"validityintervals\".\"tsworld_validfrom\" AS \"validityintervals_tsworld_validfrom\", \"validityintervals\".\"tsworld_invalidfrom\" AS \"validityintervals_tsworld_invalidfrom\", \"validityintervals\".\"tsdb_validfrom\" AS \"validityintervals_tsdb_validfrom\", \"validityintervals\".\"tsdb_invalidfrom\" AS \"validityintervals_tsdb_invalidfrom\", \"validityintervals\".\"is_committed\" AS \"validityintervals_is_committed\" FROM \"validityintervals\" WHERE \"id\" = 1 ORDER BY validityintervals.id ASC\n",
      "└ @ SearchLightPostgreSQL /home/gitpod/.julia/packages/SearchLightPostgreSQL/pumJS/src/SearchLightPostgreSQL.jl:133\n"
     ]
    },
    {
     "name": "stderr",
     "output_type": "stream",
     "text": [
      "┌ Info: INSERT INTO testdummycomponents ( \"ref_history\" ) VALUES ( E'1' ) RETURNING id\n",
      "└ @ SearchLightPostgreSQL /home/gitpod/.julia/packages/SearchLightPostgreSQL/pumJS/src/SearchLightPostgreSQL.jl:133\n",
      "┌ Info: SELECT \"testdummycomponents\".\"id\" AS \"testdummycomponents_id\", \"testdummycomponents\".\"ref_history\" AS \"testdummycomponents_ref_history\" FROM \"testdummycomponents\" WHERE \"id\" = 1 ORDER BY testdummycomponents.id ASC\n",
      "└ @ SearchLightPostgreSQL /home/gitpod/.julia/packages/SearchLightPostgreSQL/pumJS/src/SearchLightPostgreSQL.jl:133\n"
     ]
    },
    {
     "name": "stderr",
     "output_type": "stream",
     "text": [
      "┌ Info: INSERT INTO testdummycomponentrevisions ( \"ref_component\", \"ref_validfrom\", \"ref_invalidfrom\", \"description\" ) VALUES ( E'1', E'1', E'9223372036854775807', E'blue' ) RETURNING id\n",
      "└ @ SearchLightPostgreSQL /home/gitpod/.julia/packages/SearchLightPostgreSQL/pumJS/src/SearchLightPostgreSQL.jl:133\n",
      "NOTICE:  NEW: (1,1,1,9223372036854775807,,blue)\n",
      "┌ Info: SELECT \"testdummycomponentrevisions\".\"id\" AS \"testdummycomponentrevisions_id\", \"testdummycomponentrevisions\".\"ref_component\" AS \"testdummycomponentrevisions_ref_component\", \"testdummycomponentrevisions\".\"ref_validfrom\" AS \"testdummycomponentrevisions_ref_validfrom\", \"testdummycomponentrevisions\".\"ref_invalidfrom\" AS \"testdummycomponentrevisions_ref_invalidfrom\", \"testdummycomponentrevisions\".\"description\" AS \"testdummycomponentrevisions_description\" FROM \"testdummycomponentrevisions\" WHERE \"id\" = 1 ORDER BY testdummycomponentrevisions.id ASC\n",
      "└ @ SearchLightPostgreSQL /home/gitpod/.julia/packages/SearchLightPostgreSQL/pumJS/src/SearchLightPostgreSQL.jl:133\n"
     ]
    },
    {
     "name": "stderr",
     "output_type": "stream",
     "text": [
      "┌ Info:     SELECT i.* FROM histories h JOIN versions v ON v.ref_history = h.id\n",
      "│     JOIN validityIntervals i ON i.ref_version = v.id \n",
      "│     JOIN testdummyComponents p ON p.ref_history = h.id\n",
      "│     JOIN testdummycomponentrevisions r ON r.ref_component = p.id AND r.ref_valid @> v.id \n",
      "│     WHERE h.id = 1 and p.id = 1 AND  i.tsrworld @> TIMESTAMPTZ '2014-05-30 20:00:00+00' AND i.tsrdb @>  NOW() \n",
      "└ @ SearchLightPostgreSQL /home/gitpod/.julia/packages/SearchLightPostgreSQL/pumJS/src/SearchLightPostgreSQL.jl:133\n"
     ]
    },
    {
     "data": {
      "text/plain": [
       "\u001b[32m\u001b[1mTest Passed\u001b[22m\u001b[39m"
      ]
     },
     "metadata": {},
     "output_type": "display_data"
    }
   ],
   "source": [
    "using Test\n",
    "using BitemporalPostgres, SearchLight\n",
    "\n",
    "  t=TestDummyComponent()\n",
    "  tr=TestDummyComponentRevision(description=\"blue\")\n",
    "  SearchLight.Configuration.load() |> SearchLight.connect\n",
    "  \n",
    "  @test BitemporalPostgres.createEntity(t,tr) != Nothing\n",
    "\n",
    "  @test SearchLight.query(\"\"\"\n",
    "    SELECT i.* FROM histories h JOIN versions v ON v.ref_history = h.id\n",
    "    JOIN validityIntervals i ON i.ref_version = v.id \n",
    "    JOIN testdummyComponents p ON p.ref_history = h.id\n",
    "    JOIN testdummycomponentrevisions r ON r.ref_component = p.id AND r.ref_valid @> v.id \n",
    "    WHERE h.id = 1 and p.id = 1 AND  i.tsrworld @> TIMESTAMPTZ '2014-05-30 20:00:00+00' AND i.tsrdb @>  NOW() \n",
    "\"\"\") != Nothing\n"
   ]
  }
 ],
 "metadata": {
  "kernelspec": {
   "display_name": "Julia 1.6.4",
   "language": "julia",
   "name": "julia-1.6"
  },
  "language_info": {
   "file_extension": ".jl",
   "mimetype": "application/julia",
   "name": "julia",
   "version": "1.6.4"
  }
 },
 "nbformat": 4,
 "nbformat_minor": 4
}
